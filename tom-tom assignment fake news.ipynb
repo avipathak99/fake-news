{
 "cells": [
  {
   "cell_type": "code",
   "execution_count": 602,
   "metadata": {
    "execution": {
     "iopub.execute_input": "2021-12-31T16:34:36.920996Z",
     "iopub.status.busy": "2021-12-31T16:34:36.920349Z",
     "iopub.status.idle": "2021-12-31T16:34:40.227565Z",
     "shell.execute_reply": "2021-12-31T16:34:40.226654Z",
     "shell.execute_reply.started": "2021-12-31T16:34:36.920952Z"
    }
   },
   "outputs": [],
   "source": [
    "import numpy as np\n",
    "import pandas as pd\n",
    "df = pd.read_csv('/Users/avinash.pathak/kaggle/train.csv')\n",
    "\n",
    "#80-20 split\n",
    "train_df=df.sample(frac=0.8,random_state=200)\n",
    "test=df.drop(train_df.index)\n",
    "\n",
    "df = train_df"
   ]
  },
  {
   "cell_type": "code",
   "execution_count": 603,
   "metadata": {
    "execution": {
     "iopub.execute_input": "2021-12-31T16:34:40.229331Z",
     "iopub.status.busy": "2021-12-31T16:34:40.229073Z",
     "iopub.status.idle": "2021-12-31T16:34:40.246981Z",
     "shell.execute_reply": "2021-12-31T16:34:40.245897Z",
     "shell.execute_reply.started": "2021-12-31T16:34:40.2293Z"
    }
   },
   "outputs": [],
   "source": [
    "X=df.drop('label',axis=1)\n",
    "y=df['label']"
   ]
  },
  {
   "cell_type": "code",
   "execution_count": 604,
   "metadata": {
    "execution": {
     "iopub.execute_input": "2021-12-31T16:34:41.447572Z",
     "iopub.status.busy": "2021-12-31T16:34:41.447275Z",
     "iopub.status.idle": "2021-12-31T16:34:41.453554Z",
     "shell.execute_reply": "2021-12-31T16:34:41.452822Z",
     "shell.execute_reply.started": "2021-12-31T16:34:41.447538Z"
    }
   },
   "outputs": [],
   "source": [
    "df_train=df.copy()"
   ]
  },
  {
   "cell_type": "code",
   "execution_count": 605,
   "metadata": {
    "execution": {
     "iopub.execute_input": "2021-12-31T16:34:42.526085Z",
     "iopub.status.busy": "2021-12-31T16:34:42.525788Z",
     "iopub.status.idle": "2021-12-31T16:34:42.542798Z",
     "shell.execute_reply": "2021-12-31T16:34:42.542179Z",
     "shell.execute_reply.started": "2021-12-31T16:34:42.526048Z"
    }
   },
   "outputs": [
    {
     "data": {
      "text/plain": [
       "id           0\n",
       "title      439\n",
       "author    1561\n",
       "text        32\n",
       "label        0\n",
       "dtype: int64"
      ]
     },
     "execution_count": 605,
     "metadata": {},
     "output_type": "execute_result"
    }
   ],
   "source": [
    "df.isnull().sum()"
   ]
  },
  {
   "cell_type": "code",
   "execution_count": 606,
   "metadata": {
    "execution": {
     "iopub.execute_input": "2021-12-31T16:34:43.700459Z",
     "iopub.status.busy": "2021-12-31T16:34:43.700153Z",
     "iopub.status.idle": "2021-12-31T16:34:43.709801Z",
     "shell.execute_reply": "2021-12-31T16:34:43.709092Z",
     "shell.execute_reply.started": "2021-12-31T16:34:43.700424Z"
    }
   },
   "outputs": [
    {
     "data": {
      "text/plain": [
       "id          0\n",
       "title     119\n",
       "author    396\n",
       "text        7\n",
       "label       0\n",
       "dtype: int64"
      ]
     },
     "execution_count": 606,
     "metadata": {},
     "output_type": "execute_result"
    }
   ],
   "source": [
    "test.isnull().sum()"
   ]
  },
  {
   "cell_type": "code",
   "execution_count": 607,
   "metadata": {
    "execution": {
     "iopub.execute_input": "2021-12-31T16:34:44.758505Z",
     "iopub.status.busy": "2021-12-31T16:34:44.7577Z",
     "iopub.status.idle": "2021-12-31T16:34:44.775306Z",
     "shell.execute_reply": "2021-12-31T16:34:44.774535Z",
     "shell.execute_reply.started": "2021-12-31T16:34:44.758453Z"
    }
   },
   "outputs": [],
   "source": [
    "#as this is a text processing, replacing null values with blanks\n",
    "df=df.fillna(' ')\n",
    "test=test.fillna(' ')\n"
   ]
  },
  {
   "cell_type": "code",
   "execution_count": 608,
   "metadata": {
    "execution": {
     "iopub.execute_input": "2021-12-31T16:34:45.686841Z",
     "iopub.status.busy": "2021-12-31T16:34:45.686443Z",
     "iopub.status.idle": "2021-12-31T16:34:45.709175Z",
     "shell.execute_reply": "2021-12-31T16:34:45.708277Z",
     "shell.execute_reply.started": "2021-12-31T16:34:45.68681Z"
    }
   },
   "outputs": [],
   "source": [
    "# In my analysis I have used title+author+text but title+author works best for this use case in particular.\n",
    "# So going with that\n",
    "#df['total'] = df['title']+' '+df['author']+' '+df['text']\n",
    "#test['total']=test['title']+' '+test['author']+' '+test['text']\n",
    "\n",
    "df['total'] = df['title']+' '+df['author']\n",
    "test['total']=test['title']+' '+test['author']\n"
   ]
  },
  {
   "cell_type": "code",
   "execution_count": 609,
   "metadata": {
    "execution": {
     "iopub.execute_input": "2021-12-31T16:34:46.696398Z",
     "iopub.status.busy": "2021-12-31T16:34:46.696076Z",
     "iopub.status.idle": "2021-12-31T16:34:46.711586Z",
     "shell.execute_reply": "2021-12-31T16:34:46.710551Z",
     "shell.execute_reply.started": "2021-12-31T16:34:46.696362Z"
    }
   },
   "outputs": [
    {
     "name": "stdout",
     "output_type": "stream",
     "text": [
      "(16640, 5)\n",
      "(16640,)\n"
     ]
    }
   ],
   "source": [
    "X = df.drop('label',axis=1)\n",
    "y=df['label']\n",
    "print(X.shape)\n",
    "print(y.shape)\n"
   ]
  },
  {
   "cell_type": "code",
   "execution_count": 610,
   "metadata": {
    "execution": {
     "iopub.execute_input": "2021-12-31T16:34:47.482717Z",
     "iopub.status.busy": "2021-12-31T16:34:47.481875Z",
     "iopub.status.idle": "2021-12-31T16:34:49.227497Z",
     "shell.execute_reply": "2021-12-31T16:34:49.22656Z",
     "shell.execute_reply.started": "2021-12-31T16:34:47.482666Z"
    }
   },
   "outputs": [
    {
     "name": "stderr",
     "output_type": "stream",
     "text": [
      "[nltk_data] Downloading package stopwords to\n",
      "[nltk_data]     /Users/avinash.pathak/nltk_data...\n",
      "[nltk_data]   Package stopwords is already up-to-date!\n",
      "[nltk_data] Downloading package wordnet to\n",
      "[nltk_data]     /Users/avinash.pathak/nltk_data...\n",
      "[nltk_data]   Package wordnet is already up-to-date!\n",
      "[nltk_data] Downloading package omw-1.4 to\n",
      "[nltk_data]     /Users/avinash.pathak/nltk_data...\n",
      "[nltk_data]   Package omw-1.4 is already up-to-date!\n"
     ]
    },
    {
     "data": {
      "text/plain": [
       "True"
      ]
     },
     "execution_count": 610,
     "metadata": {},
     "output_type": "execute_result"
    }
   ],
   "source": [
    "#some preliminary pre-processing\n",
    "import nltk\n",
    "import re\n",
    "from nltk.corpus import stopwords\n",
    "# this is a one-time download\n",
    "nltk.download('stopwords')\n",
    "nltk.download('wordnet')\n",
    "nltk.download('omw-1.4')"
   ]
  },
  {
   "cell_type": "code",
   "execution_count": 611,
   "metadata": {
    "execution": {
     "iopub.execute_input": "2021-12-31T16:34:49.229041Z",
     "iopub.status.busy": "2021-12-31T16:34:49.228819Z",
     "iopub.status.idle": "2021-12-31T16:34:49.236061Z",
     "shell.execute_reply": "2021-12-31T16:34:49.235189Z",
     "shell.execute_reply.started": "2021-12-31T16:34:49.229015Z"
    }
   },
   "outputs": [],
   "source": [
    "from nltk.stem.porter import PorterStemmer\n",
    "from nltk.stem import WordNetLemmatizer\n",
    "ps=PorterStemmer()\n",
    "wordnet = WordNetLemmatizer()\n",
    "stop_words = stopwords.words('english')"
   ]
  },
  {
   "cell_type": "code",
   "execution_count": 612,
   "metadata": {
    "execution": {
     "iopub.execute_input": "2021-12-31T16:34:49.960317Z",
     "iopub.status.busy": "2021-12-31T16:34:49.960042Z",
     "iopub.status.idle": "2021-12-31T16:34:49.967646Z",
     "shell.execute_reply": "2021-12-31T16:34:49.966514Z",
     "shell.execute_reply.started": "2021-12-31T16:34:49.960287Z"
    }
   },
   "outputs": [],
   "source": [
    "def proprocess(text):\n",
    "    #convert all the text to lowercase\n",
    "    text = text.lower()\n",
    "    #remove non-ascii chars\n",
    "    text = text.encode(\"ascii\", \"ignore\").decode()\n",
    "    #remove new-line chars\n",
    "    text = re.sub(r'\\n',' ', text)\n",
    "    text = re.sub(r'\\s+[a-zA-Z]\\s+', ' ', text)\n",
    "    text = re.sub(r'[0-9]', ' ', text)\n",
    "    text=text.split()\n",
    "    return ' '.join([wordnet.lemmatize(word) for word in text if word not in stop_words])"
   ]
  },
  {
   "cell_type": "code",
   "execution_count": 613,
   "metadata": {
    "execution": {
     "iopub.execute_input": "2021-12-31T16:34:56.942871Z",
     "iopub.status.busy": "2021-12-31T16:34:56.942601Z",
     "iopub.status.idle": "2021-12-31T16:35:00.531914Z",
     "shell.execute_reply": "2021-12-31T16:35:00.53088Z",
     "shell.execute_reply.started": "2021-12-31T16:34:56.94284Z"
    }
   },
   "outputs": [],
   "source": [
    "df['total']=df['total'].apply(proprocess)"
   ]
  },
  {
   "cell_type": "code",
   "execution_count": 614,
   "metadata": {
    "execution": {
     "iopub.execute_input": "2021-12-31T16:35:00.533971Z",
     "iopub.status.busy": "2021-12-31T16:35:00.533713Z",
     "iopub.status.idle": "2021-12-31T16:35:00.540708Z",
     "shell.execute_reply": "2021-12-31T16:35:00.539951Z",
     "shell.execute_reply.started": "2021-12-31T16:35:00.533941Z"
    }
   },
   "outputs": [],
   "source": [
    "X=df['total']\n",
    "y=df['label']"
   ]
  },
  {
   "cell_type": "code",
   "execution_count": 615,
   "metadata": {
    "execution": {
     "iopub.execute_input": "2021-12-31T16:35:00.542463Z",
     "iopub.status.busy": "2021-12-31T16:35:00.541886Z",
     "iopub.status.idle": "2021-12-31T16:35:01.033781Z",
     "shell.execute_reply": "2021-12-31T16:35:01.032864Z",
     "shell.execute_reply.started": "2021-12-31T16:35:00.542416Z"
    }
   },
   "outputs": [],
   "source": [
    "test['total']=test['total'].apply(proprocess)"
   ]
  },
  {
   "cell_type": "code",
   "execution_count": 616,
   "metadata": {
    "execution": {
     "iopub.execute_input": "2021-12-31T16:35:06.993244Z",
     "iopub.status.busy": "2021-12-31T16:35:06.992741Z",
     "iopub.status.idle": "2021-12-31T16:35:06.99956Z",
     "shell.execute_reply": "2021-12-31T16:35:06.998928Z",
     "shell.execute_reply.started": "2021-12-31T16:35:06.993199Z"
    }
   },
   "outputs": [],
   "source": [
    "test_X=test['total']\n",
    "test_y=test['label']"
   ]
  },
  {
   "cell_type": "code",
   "execution_count": 617,
   "metadata": {
    "execution": {
     "iopub.execute_input": "2021-12-31T16:35:07.001965Z",
     "iopub.status.busy": "2021-12-31T16:35:07.001418Z",
     "iopub.status.idle": "2021-12-31T16:35:07.02028Z",
     "shell.execute_reply": "2021-12-31T16:35:07.019333Z",
     "shell.execute_reply.started": "2021-12-31T16:35:07.001905Z"
    }
   },
   "outputs": [],
   "source": [
    "# random voc size\n",
    "voc_size=5000"
   ]
  },
  {
   "cell_type": "code",
   "execution_count": 618,
   "metadata": {
    "execution": {
     "iopub.execute_input": "2021-12-31T16:35:07.022939Z",
     "iopub.status.busy": "2021-12-31T16:35:07.022435Z",
     "iopub.status.idle": "2021-12-31T16:35:07.353492Z",
     "shell.execute_reply": "2021-12-31T16:35:07.352569Z",
     "shell.execute_reply.started": "2021-12-31T16:35:07.022894Z"
    }
   },
   "outputs": [],
   "source": [
    "from tensorflow.keras.preprocessing.text import one_hot\n",
    "onehot_rep = [one_hot(words,voc_size)for words in X]\n",
    "onehot_rep_test = [one_hot(words,voc_size)for words in test_X]"
   ]
  },
  {
   "cell_type": "code",
   "execution_count": 619,
   "metadata": {
    "execution": {
     "iopub.execute_input": "2021-12-31T16:35:07.357204Z",
     "iopub.status.busy": "2021-12-31T16:35:07.356866Z",
     "iopub.status.idle": "2021-12-31T16:35:07.468165Z",
     "shell.execute_reply": "2021-12-31T16:35:07.467199Z",
     "shell.execute_reply.started": "2021-12-31T16:35:07.35717Z"
    }
   },
   "outputs": [],
   "source": [
    "from tensorflow.keras.preprocessing.sequence import pad_sequences\n",
    "embedded_docs = pad_sequences(onehot_rep,padding='pre',maxlen=25)\n",
    "embedded_docs_test = pad_sequences(onehot_rep_test,padding='pre',maxlen=25)"
   ]
  },
  {
   "cell_type": "markdown",
   "metadata": {},
   "source": [
    "### Creating and training model"
   ]
  },
  {
   "cell_type": "code",
   "execution_count": 620,
   "metadata": {},
   "outputs": [],
   "source": [
    "from tensorflow.keras.layers import Embedding,LSTM,Dense,Dropout, GRU, SimpleRNN\n",
    "from tensorflow.keras.models import Sequential"
   ]
  },
  {
   "cell_type": "code",
   "execution_count": 621,
   "metadata": {
    "execution": {
     "iopub.execute_input": "2021-12-31T16:35:07.469906Z",
     "iopub.status.busy": "2021-12-31T16:35:07.469581Z",
     "iopub.status.idle": "2021-12-31T16:35:07.908973Z",
     "shell.execute_reply": "2021-12-31T16:35:07.908087Z",
     "shell.execute_reply.started": "2021-12-31T16:35:07.469863Z"
    }
   },
   "outputs": [
    {
     "name": "stdout",
     "output_type": "stream",
     "text": [
      "Model: \"sequential_65\"\n",
      "_________________________________________________________________\n",
      "Layer (type)                 Output Shape              Param #   \n",
      "=================================================================\n",
      "embedding_39 (Embedding)     (None, 25, 40)            200000    \n",
      "_________________________________________________________________\n",
      "dropout_103 (Dropout)        (None, 25, 40)            0         \n",
      "_________________________________________________________________\n",
      "lstm_27 (LSTM)               (None, 100)               56400     \n",
      "_________________________________________________________________\n",
      "dropout_104 (Dropout)        (None, 100)               0         \n",
      "_________________________________________________________________\n",
      "dense_129 (Dense)            (None, 64)                6464      \n",
      "_________________________________________________________________\n",
      "dropout_105 (Dropout)        (None, 64)                0         \n",
      "_________________________________________________________________\n",
      "dense_130 (Dense)            (None, 1)                 65        \n",
      "=================================================================\n",
      "Total params: 262,929\n",
      "Trainable params: 262,929\n",
      "Non-trainable params: 0\n",
      "_________________________________________________________________\n",
      "None\n"
     ]
    }
   ],
   "source": [
    "model = Sequential()\n",
    "model.add(Embedding(voc_size,40,input_length=25))\n",
    "model.add(Dropout(0.3))\n",
    "model.add(LSTM(100))\n",
    "model.add(Dropout(0.3))\n",
    "model.add(Dense(64,activation='relu'))\n",
    "model.add(Dropout(0.3))\n",
    "model.add(Dense(1,activation='sigmoid'))\n",
    "model.compile(loss='binary_crossentropy',optimizer='adam',metrics=['accuracy', keras.metrics.Precision(), keras.metrics.Recall()])\n",
    "print(model.summary())"
   ]
  },
  {
   "cell_type": "code",
   "execution_count": 622,
   "metadata": {
    "execution": {
     "iopub.execute_input": "2021-12-31T16:35:07.912733Z",
     "iopub.status.busy": "2021-12-31T16:35:07.912413Z",
     "iopub.status.idle": "2021-12-31T16:35:07.91959Z",
     "shell.execute_reply": "2021-12-31T16:35:07.918769Z",
     "shell.execute_reply.started": "2021-12-31T16:35:07.9127Z"
    }
   },
   "outputs": [],
   "source": [
    "#need to conver to numpy arrays\n",
    "X_final = np.array(embedded_docs)\n",
    "y_final = np.array(y)\n",
    "test_final = np.array(embedded_docs_test)\n",
    "y_test_label = np.array(test_y)"
   ]
  },
  {
   "cell_type": "code",
   "execution_count": 623,
   "metadata": {
    "execution": {
     "iopub.execute_input": "2021-12-31T16:35:08.325954Z",
     "iopub.status.busy": "2021-12-31T16:35:08.325694Z",
     "iopub.status.idle": "2021-12-31T16:35:08.331915Z",
     "shell.execute_reply": "2021-12-31T16:35:08.331223Z",
     "shell.execute_reply.started": "2021-12-31T16:35:08.325927Z"
    }
   },
   "outputs": [
    {
     "data": {
      "text/plain": [
       "((16640, 25), (16640,), (4160, 25), (4160,))"
      ]
     },
     "execution_count": 623,
     "metadata": {},
     "output_type": "execute_result"
    }
   ],
   "source": [
    "X_final.shape,y_final.shape,test_final.shape,y_test_label.shape"
   ]
  },
  {
   "cell_type": "code",
   "execution_count": 624,
   "metadata": {},
   "outputs": [
    {
     "data": {
      "text/plain": [
       "(16640, 25)"
      ]
     },
     "execution_count": 624,
     "metadata": {},
     "output_type": "execute_result"
    }
   ],
   "source": [
    "X_final.shape"
   ]
  },
  {
   "cell_type": "code",
   "execution_count": 625,
   "metadata": {
    "execution": {
     "iopub.execute_input": "2021-12-31T16:35:24.729432Z",
     "iopub.status.busy": "2021-12-31T16:35:24.729094Z",
     "iopub.status.idle": "2021-12-31T16:38:47.897482Z",
     "shell.execute_reply": "2021-12-31T16:38:47.895993Z",
     "shell.execute_reply.started": "2021-12-31T16:35:24.729397Z"
    }
   },
   "outputs": [
    {
     "name": "stdout",
     "output_type": "stream",
     "text": [
      "Epoch 1/20\n",
      "260/260 [==============================] - 4s 17ms/step - loss: 0.1697 - accuracy: 0.9234 - precision_50: 0.8972 - recall_50: 0.9552\n",
      "Epoch 2/20\n",
      "260/260 [==============================] - 4s 15ms/step - loss: 0.0198 - accuracy: 0.9947 - precision_50: 0.9947 - recall_50: 0.9946\n",
      "Epoch 3/20\n",
      "260/260 [==============================] - 4s 16ms/step - loss: 0.0089 - accuracy: 0.9977 - precision_50: 0.9979 - recall_50: 0.9975\n",
      "Epoch 4/20\n",
      "260/260 [==============================] - 4s 16ms/step - loss: 0.0046 - accuracy: 0.9990 - precision_50: 0.9988 - recall_50: 0.9992\n",
      "Epoch 5/20\n",
      "260/260 [==============================] - 4s 14ms/step - loss: 0.0030 - accuracy: 0.9992 - precision_50: 0.9993 - recall_50: 0.9990\n",
      "Epoch 6/20\n",
      "260/260 [==============================] - 4s 14ms/step - loss: 0.0022 - accuracy: 0.9993 - precision_50: 0.9994 - recall_50: 0.9993\n",
      "Epoch 7/20\n",
      "260/260 [==============================] - 4s 14ms/step - loss: 0.0015 - accuracy: 0.9996 - precision_50: 0.9998 - recall_50: 0.9994\n",
      "Epoch 8/20\n",
      "260/260 [==============================] - 3s 13ms/step - loss: 0.0029 - accuracy: 0.9989 - precision_50: 0.9992 - recall_50: 0.9987\n",
      "Epoch 9/20\n",
      "260/260 [==============================] - 3s 13ms/step - loss: 0.0012 - accuracy: 0.9995 - precision_50: 0.9998 - recall_50: 0.9993\n",
      "Epoch 10/20\n",
      "260/260 [==============================] - 3s 12ms/step - loss: 0.0013 - accuracy: 0.9996 - precision_50: 0.9999 - recall_50: 0.9994\n",
      "Epoch 11/20\n",
      "260/260 [==============================] - 4s 14ms/step - loss: 9.1163e-04 - accuracy: 0.9998 - precision_50: 0.9999 - recall_50: 0.9998\n",
      "Epoch 12/20\n",
      "260/260 [==============================] - 4s 16ms/step - loss: 0.0024 - accuracy: 0.9993 - precision_50: 0.9995 - recall_50: 0.9990\n",
      "Epoch 13/20\n",
      "260/260 [==============================] - 4s 15ms/step - loss: 0.0016 - accuracy: 0.9995 - precision_50: 0.9995 - recall_50: 0.9995\n",
      "Epoch 14/20\n",
      "260/260 [==============================] - 4s 14ms/step - loss: 9.5189e-04 - accuracy: 0.9996 - precision_50: 0.9996 - recall_50: 0.9996\n",
      "Epoch 15/20\n",
      "260/260 [==============================] - 4s 14ms/step - loss: 6.6488e-04 - accuracy: 0.9999 - precision_50: 0.9999 - recall_50: 0.9999\n",
      "Epoch 16/20\n",
      "260/260 [==============================] - 11s 41ms/step - loss: 3.6538e-04 - accuracy: 0.9999 - precision_50: 0.9999 - recall_50: 0.9999\n",
      "Epoch 17/20\n",
      "260/260 [==============================] - 5s 21ms/step - loss: 5.4879e-05 - accuracy: 1.0000 - precision_50: 1.0000 - recall_50: 1.0000\n",
      "Epoch 18/20\n",
      "260/260 [==============================] - 4s 16ms/step - loss: 1.7353e-04 - accuracy: 0.9999 - precision_50: 0.9999 - recall_50: 1.0000\n",
      "Epoch 19/20\n",
      "260/260 [==============================] - 4s 16ms/step - loss: 2.0201e-04 - accuracy: 0.9999 - precision_50: 1.0000 - recall_50: 0.9999\n",
      "Epoch 20/20\n",
      "260/260 [==============================] - 8s 30ms/step - loss: 0.0019 - accuracy: 0.9993 - precision_50: 0.9996 - recall_50: 0.9990\n"
     ]
    },
    {
     "data": {
      "text/plain": [
       "<tensorflow.python.keras.callbacks.History at 0x7fe439d07e10>"
      ]
     },
     "execution_count": 625,
     "metadata": {},
     "output_type": "execute_result"
    }
   ],
   "source": [
    "#fit\n",
    "model.fit(X_final,y_final,epochs=20,batch_size=64)\n"
   ]
  },
  {
   "cell_type": "markdown",
   "metadata": {},
   "source": [
    "# Evaluating the model with 20% test data from train set itself"
   ]
  },
  {
   "cell_type": "code",
   "execution_count": 626,
   "metadata": {},
   "outputs": [
    {
     "data": {
      "text/plain": [
       "((4160, 25), (4160,))"
      ]
     },
     "execution_count": 626,
     "metadata": {},
     "output_type": "execute_result"
    }
   ],
   "source": [
    "test_final.shape,y_test_label.shape"
   ]
  },
  {
   "cell_type": "code",
   "execution_count": 627,
   "metadata": {
    "scrolled": true
   },
   "outputs": [
    {
     "name": "stdout",
     "output_type": "stream",
     "text": [
      "65/65 [==============================] - 1s 9ms/step - loss: 0.0743 - accuracy: 0.9875 - precision_50: 0.9852 - recall_50: 0.9907\n",
      "Test score: 0.07431173324584961\n",
      "Test accuracy: 0.987500011920929\n",
      "Test precision: 0.9851989150047302\n",
      "Test recall: 0.9906976819038391\n"
     ]
    }
   ],
   "source": [
    "score, accuracy, precision, recall = model.evaluate(test_final, y_test_label,\n",
    "                            batch_size=64)\n",
    "print('Test score:', score)\n",
    "print('Test accuracy:', accuracy)\n",
    "print('Test precision:', precision)\n",
    "print('Test recall:', recall)\n"
   ]
  },
  {
   "cell_type": "markdown",
   "metadata": {},
   "source": [
    "# Calculating confusion matrix for manual precision, recall calculation"
   ]
  },
  {
   "cell_type": "code",
   "execution_count": 628,
   "metadata": {
    "execution": {
     "iopub.execute_input": "2021-12-31T16:38:52.555272Z",
     "iopub.status.busy": "2021-12-31T16:38:52.554938Z",
     "iopub.status.idle": "2021-12-31T16:38:54.399426Z",
     "shell.execute_reply": "2021-12-31T16:38:54.398526Z",
     "shell.execute_reply.started": "2021-12-31T16:38:52.555239Z"
    }
   },
   "outputs": [],
   "source": [
    "y_pred = model.predict(test_final)"
   ]
  },
  {
   "cell_type": "code",
   "execution_count": 629,
   "metadata": {},
   "outputs": [
    {
     "data": {
      "text/plain": [
       "(4160, 1)"
      ]
     },
     "execution_count": 629,
     "metadata": {},
     "output_type": "execute_result"
    }
   ],
   "source": [
    "y_pred.shape"
   ]
  },
  {
   "cell_type": "code",
   "execution_count": 630,
   "metadata": {
    "execution": {
     "iopub.execute_input": "2021-12-31T16:39:01.972221Z",
     "iopub.status.busy": "2021-12-31T16:39:01.971524Z",
     "iopub.status.idle": "2021-12-31T16:39:01.975822Z",
     "shell.execute_reply": "2021-12-31T16:39:01.975117Z",
     "shell.execute_reply.started": "2021-12-31T16:39:01.972182Z"
    }
   },
   "outputs": [],
   "source": [
    "y_pred=np.round(y_pred)"
   ]
  },
  {
   "cell_type": "code",
   "execution_count": 631,
   "metadata": {},
   "outputs": [
    {
     "data": {
      "text/plain": [
       "((4160,), (4160, 1))"
      ]
     },
     "execution_count": 631,
     "metadata": {},
     "output_type": "execute_result"
    }
   ],
   "source": [
    "y_test_label.shape,y_pred.shape"
   ]
  },
  {
   "cell_type": "code",
   "execution_count": 632,
   "metadata": {},
   "outputs": [
    {
     "name": "stdout",
     "output_type": "stream",
     "text": [
      "Confusion Matrix\n",
      "[[1978   32]\n",
      " [  20 2130]]\n",
      "(2, 2)\n"
     ]
    }
   ],
   "source": [
    "from sklearn.metrics import classification_report, confusion_matrix\n",
    "\n",
    "\n",
    "print('Confusion Matrix')\n",
    "conf_matrix = confusion_matrix(y_test_label, y_pred)\n",
    "print(conf_matrix)\n",
    "\n",
    "print(conf_matrix.shape)\n"
   ]
  },
  {
   "cell_type": "markdown",
   "metadata": {},
   "source": [
    "### Calculate precision and recall"
   ]
  },
  {
   "cell_type": "code",
   "execution_count": 633,
   "metadata": {},
   "outputs": [
    {
     "name": "stdout",
     "output_type": "stream",
     "text": [
      "precision =  0.9840796019900497\n",
      "recall =  0.98998998998999\n"
     ]
    }
   ],
   "source": [
    "# for one run these were the values\n",
    "# tp=1999\n",
    "# fp=11\n",
    "# fn=37\n",
    "# tn=2113\n",
    "\n",
    "tp = conf_matrix[0][0]\n",
    "fp = conf_matrix[0][1]\n",
    "fn = conf_matrix[1][0]\n",
    "tn = conf_matrix[1][1]\n",
    "\n",
    "precision = tp/(tp+fp)\n",
    "recall = tp/(tp+fn)\n",
    "\n",
    "print(\"precision = \", precision)\n",
    "print(\"recall = \", recall)"
   ]
  },
  {
   "cell_type": "markdown",
   "metadata": {},
   "source": [
    "# Following is for submissions.csv, this is done on separate test set provided"
   ]
  },
  {
   "cell_type": "code",
   "execution_count": 634,
   "metadata": {},
   "outputs": [],
   "source": [
    "test = pd.read_csv('/Users/avinash.pathak/kaggle/test.csv')"
   ]
  },
  {
   "cell_type": "code",
   "execution_count": 635,
   "metadata": {},
   "outputs": [],
   "source": [
    "test=test.fillna('')"
   ]
  },
  {
   "cell_type": "code",
   "execution_count": 636,
   "metadata": {},
   "outputs": [],
   "source": [
    "test['total']=test['title']+' '+test['author']"
   ]
  },
  {
   "cell_type": "code",
   "execution_count": 637,
   "metadata": {},
   "outputs": [],
   "source": [
    "test['total']=test['total'].apply(proprocess)"
   ]
  },
  {
   "cell_type": "code",
   "execution_count": 638,
   "metadata": {},
   "outputs": [],
   "source": [
    "test_X=test['total']"
   ]
  },
  {
   "cell_type": "code",
   "execution_count": 639,
   "metadata": {},
   "outputs": [],
   "source": [
    "onehot_rep_test = [one_hot(words,voc_size)for words in test_X]"
   ]
  },
  {
   "cell_type": "code",
   "execution_count": 640,
   "metadata": {},
   "outputs": [],
   "source": [
    "embedded_docs_test = pad_sequences(onehot_rep_test,padding='pre',maxlen=25)"
   ]
  },
  {
   "cell_type": "code",
   "execution_count": 641,
   "metadata": {},
   "outputs": [],
   "source": [
    "test_final = np.array(embedded_docs_test)"
   ]
  },
  {
   "cell_type": "code",
   "execution_count": 642,
   "metadata": {},
   "outputs": [
    {
     "data": {
      "text/plain": [
       "(5200, 25)"
      ]
     },
     "execution_count": 642,
     "metadata": {},
     "output_type": "execute_result"
    }
   ],
   "source": [
    "test_final.shape"
   ]
  },
  {
   "cell_type": "code",
   "execution_count": 643,
   "metadata": {},
   "outputs": [],
   "source": [
    "y_pred = model.predict(test_final)"
   ]
  },
  {
   "cell_type": "code",
   "execution_count": 644,
   "metadata": {},
   "outputs": [],
   "source": [
    "y_pred=np.round(y_pred)"
   ]
  },
  {
   "cell_type": "code",
   "execution_count": 645,
   "metadata": {},
   "outputs": [
    {
     "data": {
      "text/plain": [
       "array([[0],\n",
       "       [1],\n",
       "       [1],\n",
       "       ...,\n",
       "       [0],\n",
       "       [1],\n",
       "       [0]])"
      ]
     },
     "execution_count": 645,
     "metadata": {},
     "output_type": "execute_result"
    }
   ],
   "source": [
    "y_pred.astype('int64')"
   ]
  },
  {
   "cell_type": "code",
   "execution_count": 646,
   "metadata": {},
   "outputs": [],
   "source": [
    "final_sub = pd.DataFrame()\n",
    "final_sub['id']=test['id']\n",
    "final_sub['label'] = y_pred\n",
    "final_sub.to_csv('final_sub.csv',index=False)"
   ]
  },
  {
   "cell_type": "code",
   "execution_count": 647,
   "metadata": {
    "scrolled": true
   },
   "outputs": [
    {
     "data": {
      "text/html": [
       "<div>\n",
       "<style scoped>\n",
       "    .dataframe tbody tr th:only-of-type {\n",
       "        vertical-align: middle;\n",
       "    }\n",
       "\n",
       "    .dataframe tbody tr th {\n",
       "        vertical-align: top;\n",
       "    }\n",
       "\n",
       "    .dataframe thead th {\n",
       "        text-align: right;\n",
       "    }\n",
       "</style>\n",
       "<table border=\"1\" class=\"dataframe\">\n",
       "  <thead>\n",
       "    <tr style=\"text-align: right;\">\n",
       "      <th></th>\n",
       "      <th>id</th>\n",
       "      <th>label</th>\n",
       "    </tr>\n",
       "  </thead>\n",
       "  <tbody>\n",
       "    <tr>\n",
       "      <th>0</th>\n",
       "      <td>20800</td>\n",
       "      <td>0.0</td>\n",
       "    </tr>\n",
       "    <tr>\n",
       "      <th>1</th>\n",
       "      <td>20801</td>\n",
       "      <td>1.0</td>\n",
       "    </tr>\n",
       "    <tr>\n",
       "      <th>2</th>\n",
       "      <td>20802</td>\n",
       "      <td>1.0</td>\n",
       "    </tr>\n",
       "    <tr>\n",
       "      <th>3</th>\n",
       "      <td>20803</td>\n",
       "      <td>0.0</td>\n",
       "    </tr>\n",
       "    <tr>\n",
       "      <th>4</th>\n",
       "      <td>20804</td>\n",
       "      <td>1.0</td>\n",
       "    </tr>\n",
       "  </tbody>\n",
       "</table>\n",
       "</div>"
      ],
      "text/plain": [
       "      id  label\n",
       "0  20800    0.0\n",
       "1  20801    1.0\n",
       "2  20802    1.0\n",
       "3  20803    0.0\n",
       "4  20804    1.0"
      ]
     },
     "execution_count": 647,
     "metadata": {},
     "output_type": "execute_result"
    }
   ],
   "source": [
    "final_sub.head()"
   ]
  },
  {
   "cell_type": "code",
   "execution_count": 648,
   "metadata": {},
   "outputs": [
    {
     "name": "stdout",
     "output_type": "stream",
     "text": [
      "<class 'pandas.core.frame.DataFrame'>\n",
      "RangeIndex: 5200 entries, 0 to 5199\n",
      "Data columns (total 2 columns):\n",
      " #   Column  Non-Null Count  Dtype  \n",
      "---  ------  --------------  -----  \n",
      " 0   id      5200 non-null   int64  \n",
      " 1   label   5200 non-null   float32\n",
      "dtypes: float32(1), int64(1)\n",
      "memory usage: 61.1 KB\n"
     ]
    }
   ],
   "source": [
    "final_sub.info()"
   ]
  },
  {
   "cell_type": "code",
   "execution_count": 649,
   "metadata": {},
   "outputs": [],
   "source": [
    "final_sub['label']=final_sub['label'].astype('int64')"
   ]
  },
  {
   "cell_type": "code",
   "execution_count": 650,
   "metadata": {},
   "outputs": [
    {
     "data": {
      "text/html": [
       "<div>\n",
       "<style scoped>\n",
       "    .dataframe tbody tr th:only-of-type {\n",
       "        vertical-align: middle;\n",
       "    }\n",
       "\n",
       "    .dataframe tbody tr th {\n",
       "        vertical-align: top;\n",
       "    }\n",
       "\n",
       "    .dataframe thead th {\n",
       "        text-align: right;\n",
       "    }\n",
       "</style>\n",
       "<table border=\"1\" class=\"dataframe\">\n",
       "  <thead>\n",
       "    <tr style=\"text-align: right;\">\n",
       "      <th></th>\n",
       "      <th>id</th>\n",
       "      <th>label</th>\n",
       "    </tr>\n",
       "  </thead>\n",
       "  <tbody>\n",
       "    <tr>\n",
       "      <th>0</th>\n",
       "      <td>20800</td>\n",
       "      <td>0</td>\n",
       "    </tr>\n",
       "    <tr>\n",
       "      <th>1</th>\n",
       "      <td>20801</td>\n",
       "      <td>1</td>\n",
       "    </tr>\n",
       "    <tr>\n",
       "      <th>2</th>\n",
       "      <td>20802</td>\n",
       "      <td>1</td>\n",
       "    </tr>\n",
       "    <tr>\n",
       "      <th>3</th>\n",
       "      <td>20803</td>\n",
       "      <td>0</td>\n",
       "    </tr>\n",
       "    <tr>\n",
       "      <th>4</th>\n",
       "      <td>20804</td>\n",
       "      <td>1</td>\n",
       "    </tr>\n",
       "  </tbody>\n",
       "</table>\n",
       "</div>"
      ],
      "text/plain": [
       "      id  label\n",
       "0  20800      0\n",
       "1  20801      1\n",
       "2  20802      1\n",
       "3  20803      0\n",
       "4  20804      1"
      ]
     },
     "execution_count": 650,
     "metadata": {},
     "output_type": "execute_result"
    }
   ],
   "source": [
    "final_sub.head()"
   ]
  },
  {
   "cell_type": "code",
   "execution_count": 651,
   "metadata": {},
   "outputs": [],
   "source": [
    "final_sub.to_csv('tomtom_submission.csv',index=False)"
   ]
  }
 ],
 "metadata": {
  "kernelspec": {
   "display_name": "Python 3",
   "language": "python",
   "name": "python3"
  },
  "language_info": {
   "codemirror_mode": {
    "name": "ipython",
    "version": 3
   },
   "file_extension": ".py",
   "mimetype": "text/x-python",
   "name": "python",
   "nbconvert_exporter": "python",
   "pygments_lexer": "ipython3",
   "version": "3.6.13"
  }
 },
 "nbformat": 4,
 "nbformat_minor": 4
}
